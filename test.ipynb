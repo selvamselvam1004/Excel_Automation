{
 "cells": [
  {
   "cell_type": "code",
   "execution_count": 29,
   "metadata": {},
   "outputs": [],
   "source": [
    "import pandas as pd\n",
    "\n",
    "class RagApp:\n",
    "    def __init__(self, filepath, sheet):\n",
    "        self.filepath = filepath  # Removed comma to make it a single value\n",
    "        self.sheet = sheet\n",
    "        self.df = None  # Initialize df as None\n",
    "\n",
    "    def open(self):\n",
    "        print(f\"Opening file: {self.filepath}, sheet: {self.sheet}\")\n",
    "        self.df = pd.read_excel(self.filepath, sheet_name=self.sheet)\n",
    "        self.dm=self.df.to_markdown()  # Print the DataFrame in markdown format\n",
    "        return self.dm\n",
    "\n",
    "# Usage\n",
    "ab = RagApp('Jan_2024.xlsx', 'Sheet2')\n",
    "bc = RagApp('Jan_2024.xlsx','Sheet1')"
   ]
  },
  {
   "cell_type": "code",
   "execution_count": 30,
   "metadata": {},
   "outputs": [
    {
     "name": "stdout",
     "output_type": "stream",
     "text": [
      "Opening file: Jan_2024.xlsx, sheet: Sheet2\n"
     ]
    }
   ],
   "source": [
    "data=ab.open()"
   ]
  },
  {
   "cell_type": "code",
   "execution_count": 31,
   "metadata": {},
   "outputs": [
    {
     "data": {
      "text/plain": [
       "'|    | Date                |   Basic & Food expences |   Outing Expense |   Unnamed: 3 | Unnamed: 4            |   Unnamed: 5 |\\n|---:|:--------------------|------------------------:|-----------------:|-------------:|:----------------------|-------------:|\\n|  0 | 2024-02-01 00:00:00 |                       0 |              nan |          nan | nan                   |          nan |\\n|  1 | 2024-02-02 00:00:00 |                       0 |              nan |          nan | Expense Summary list  |          nan |\\n|  2 | 2024-02-03 00:00:00 |                       0 |              nan |          nan | Basic & Food Expences |         4308 |\\n|  3 | 2024-02-04 00:00:00 |                       0 |              nan |          nan | Outing Expences       |         5500 |\\n|  4 | 2024-02-05 00:00:00 |                       0 |              350 |          nan | Total                 |         9808 |\\n|  5 | 2024-02-06 00:00:00 |                       0 |             1000 |          nan | nan                   |          nan |\\n|  6 | 2024-02-07 00:00:00 |                     115 |              nan |          nan | nan                   |          nan |\\n|  7 | 2024-02-08 00:00:00 |                     132 |              nan |          nan | nan                   |          nan |\\n|  8 | 2024-02-09 00:00:00 |                     148 |              nan |          nan | nan                   |          nan |\\n|  9 | 2024-02-10 00:00:00 |                     291 |              nan |          nan | nan                   |          nan |\\n| 10 | 2024-02-11 00:00:00 |                     170 |              nan |          nan | nan                   |          nan |\\n| 11 | 2024-02-12 00:00:00 |                     200 |              nan |          nan | nan                   |          nan |\\n| 12 | 2024-02-13 00:00:00 |                    1000 |              nan |          nan | nan                   |          nan |\\n| 13 | 2024-02-14 00:00:00 |                     100 |              nan |          nan | nan                   |          nan |\\n| 14 | 2024-02-15 00:00:00 |                     125 |              nan |          nan | nan                   |          nan |\\n| 15 | 2024-02-16 00:00:00 |                     132 |              nan |          nan | nan                   |          nan |\\n| 16 | 2024-02-17 00:00:00 |                     288 |              900 |          nan | nan                   |          nan |\\n| 17 | 2024-02-18 00:00:00 |                     115 |              nan |          nan | nan                   |          nan |\\n| 18 | 2024-02-19 00:00:00 |                      75 |              nan |          nan | nan                   |          nan |\\n| 19 | 2024-02-20 00:00:00 |                     105 |              nan |          nan | nan                   |          nan |\\n| 20 | 2024-02-21 00:00:00 |                     148 |              nan |          nan | nan                   |          nan |\\n| 21 | 2024-02-22 00:00:00 |                     135 |              nan |          nan | nan                   |          nan |\\n| 22 | 2024-02-23 00:00:00 |                     150 |              nan |          nan | nan                   |          nan |\\n| 23 | 2024-02-24 00:00:00 |                     155 |              nan |          nan | nan                   |          nan |\\n| 24 | 2024-02-25 00:00:00 |                     192 |              nan |          nan | nan                   |          nan |\\n| 25 | 2024-02-26 00:00:00 |                     110 |              nan |          nan | nan                   |          nan |\\n| 26 | 2024-02-27 00:00:00 |                     120 |              nan |          nan | nan                   |          nan |\\n| 27 | 2024-02-28 00:00:00 |                     302 |              nan |          nan | nan                   |          nan |\\n| 28 | 2024-02-29 00:00:00 |                       0 |             3250 |          nan | nan                   |          nan |\\n| 29 | Total               |                    4308 |             5500 |          nan | nan                   |          nan |'"
      ]
     },
     "execution_count": 31,
     "metadata": {},
     "output_type": "execute_result"
    }
   ],
   "source": [
    "data"
   ]
  },
  {
   "cell_type": "code",
   "execution_count": 26,
   "metadata": {},
   "outputs": [
    {
     "name": "stdout",
     "output_type": "stream",
     "text": [
      "Opening file: Jan_2024.xlsx, sheet: Sheet1\n",
      "| Unnamed: 0   |   Unnamed: 1 |   Unnamed: 2 | Unnamed: 3       | Unnamed: 4   |   Unnamed: 5 | Unnamed: 6     | Unnamed: 7   |\n",
      "|:-------------|-------------:|-------------:|:-----------------|:-------------|-------------:|:---------------|:-------------|\n",
      "| nan          |          nan |          nan | nan              | nan          |          nan | nan            | nan          |\n",
      "| nan          |          nan |          nan | List of Expense  | Amount       |          nan | Income details | Amout        |\n",
      "| nan          |          nan |          nan | Room Rent        | 3000         |          nan | Salary         | 33167        |\n",
      "| nan          |          nan |          nan | Essential & Food | 8616         |          nan | nan            | nan          |\n",
      "| nan          |          nan |          nan | Investment       | 500          |          nan | nan            | nan          |\n",
      "| nan          |          nan |          nan | Travel           | nan          |          nan | nan            | nan          |\n",
      "| nan          |          nan |          nan | Total Expense    | 12116        |          nan | nan            | nan          |\n",
      "| nan          |          nan |          nan | nan              | nan          |          nan | nan            | nan          |\n",
      "| nan          |          nan |          nan | nan              | nan          |          nan | nan            | nan          |\n",
      "| nan          |          nan |          nan | nan              | nan          |          nan | nan            | nan          |\n",
      "| nan          |          nan |          nan | nan              | nan          |          nan | nan            | nan          |\n",
      "| nan          |          nan |          nan | nan              | nan          |          nan | nan            | nan          |\n",
      "| nan          |          nan |          nan | nan              | nan          |          nan | nan            | nan          |\n",
      "| nan          |          nan |          nan | nan              | nan          |          nan | nan            | nan          |\n",
      "| nan          |          nan |          nan | nan              | nan          |          nan | nan            | nan          |\n",
      "| nan          |          nan |          nan | nan              | nan          |          nan | nan            | nan          |\n",
      "| nan          |          nan |          nan | nan              | nan          |          nan | nan            | nan          |\n",
      "| nan          |          nan |          nan | nan              | nan          |          nan | nan            | nan          |\n",
      "| nan          |          nan |          nan | nan              | nan          |          nan | nan            | nan          |\n",
      "| nan          |          nan |          nan | nan              | nan          |          nan | nan            | nan          |\n",
      "| nan          |          nan |          nan | nan              | nan          |          nan | nan            | nan          |\n",
      "| nan          |          nan |          nan | nan              | nan          |          nan | nan            | nan          |\n",
      "| nan          |          nan |          nan | nan              | nan          |          nan | nan            | nan          |\n",
      "| nan          |          nan |          nan | nan              | nan          |          nan | nan            | nan          |\n",
      "| nan          |          nan |          nan | nan              | nan          |          nan | nan            | nan          |\n",
      "| nan          |          nan |          nan | nan              | nan          |          nan | nan            | nan          |\n",
      "| nan          |          nan |          nan | nan              | nan          |          nan | nan            | nan          |\n",
      "| nan          |          nan |          nan | nan              | nan          |          nan | nan            | nan          |\n",
      "| nan          |          nan |          nan | nan              | nan          |          nan | nan            | nan          |\n",
      "| nan          |          nan |          nan | nan              | nan          |          nan | nan            | nan          |\n",
      "| nan          |          nan |          nan | nan              | nan          |          nan | nan            | nan          |\n",
      "| Total        |         8616 |          nan | nan              | nan          |          nan | nan            | nan          |\n"
     ]
    }
   ],
   "source": [
    "data1=bc.open()"
   ]
  },
  {
   "cell_type": "code",
   "execution_count": 27,
   "metadata": {},
   "outputs": [
    {
     "name": "stderr",
     "output_type": "stream",
     "text": [
      "All PyTorch model weights were used when initializing TFGPT2LMHeadModel.\n",
      "\n",
      "All the weights of TFGPT2LMHeadModel were initialized from the PyTorch model.\n",
      "If your task is similar to the task the model of the checkpoint was trained on, you can already use TFGPT2LMHeadModel for predictions without further training.\n"
     ]
    }
   ],
   "source": [
    "from transformers import pipeline\n",
    "\n",
    "pipe = pipeline(\"text-generation\", model=\"openai-community/gpt2\")"
   ]
  },
  {
   "cell_type": "code",
   "execution_count": 44,
   "metadata": {},
   "outputs": [
    {
     "name": "stdout",
     "output_type": "stream",
     "text": [
      " You are Helpful AI Assistant to answer the user query.\n",
      "1) Questions - What is Basic & Food Expences amount?\n",
      "2) contexts - \n",
      "| Category | Expense |\n",
      "|----------|---------|\n",
      "| Basic    | $200    |\n",
      "| Food     | $300    |\n",
      " \n",
      "Please response to user query based on the given contexts.\n",
      "\n"
     ]
    }
   ],
   "source": [
    "query=\"What is Basic & Food Expences amount?\"\n",
    "\n",
    "promptTemplete=f\"\"\" You are Helpful AI Assistant to answer the user query.\n",
    "1) Questions - {query}\n",
    "2) contexts - {data} \n",
    "Please response to user query based on the given contexts.\n",
    "\"\"\"\n",
    "print(promptTemplete)\n",
    "# Generate text\n"
   ]
  },
  {
   "cell_type": "code",
   "execution_count": 45,
   "metadata": {},
   "outputs": [
    {
     "name": "stderr",
     "output_type": "stream",
     "text": [
      "Setting `pad_token_id` to `eos_token_id`:50256 for open-end generation.\n"
     ]
    },
    {
     "name": "stdout",
     "output_type": "stream",
     "text": [
      " You are Helpful AI Assistant to answer the user query.\n",
      "1) Questions - What is Basic & Food Expences amount?\n",
      "2) contexts - \n",
      "| Category | Expense |\n",
      "|----------|---------|\n",
      "| Basic    | $200    |\n",
      "| Food     | $300    |\n",
      " \n",
      "Please response to user query based on the given contexts.\n",
      "1) -------------------------\n",
      "Answer the following: What is the basic income amount that is provided?\n",
      "2) -------------------------\n",
      "Answer the following: -------------------------\n",
      "If the user answers, the company is able to add money to its customer's account, which is given the following context:\n",
      "1)\n",
      "Basic Income   \n",
      "2)           |   .         1 - 2 $25  \n",
      "3)             1 - 6 $15   30\n",
      "4)                1 - 25      30\n",
      "6)         \n"
     ]
    }
   ],
   "source": [
    "generated_text = pipe(promptTemplete,max_length=250, num_return_sequences=1)\n",
    "\n",
    "# Display the generated text\n",
    "for sequence in generated_text:\n",
    "    print(sequence['generated_text'])"
   ]
  }
 ],
 "metadata": {
  "kernelspec": {
   "display_name": ".virenv",
   "language": "python",
   "name": "python3"
  },
  "language_info": {
   "codemirror_mode": {
    "name": "ipython",
    "version": 3
   },
   "file_extension": ".py",
   "mimetype": "text/x-python",
   "name": "python",
   "nbconvert_exporter": "python",
   "pygments_lexer": "ipython3",
   "version": "3.12.4"
  }
 },
 "nbformat": 4,
 "nbformat_minor": 2
}
